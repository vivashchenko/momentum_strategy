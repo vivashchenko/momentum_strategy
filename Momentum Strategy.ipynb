{
 "cells": [
  {
   "cell_type": "code",
   "execution_count": 1,
   "metadata": {},
   "outputs": [],
   "source": [
    "import pandas as pd\n",
    "import requests\n",
    "from bs4 import BeautifulSoup\n",
    "import yfinance as yf\n",
    "import datetime\n",
    "import numpy as np"
   ]
  },
  {
   "cell_type": "code",
   "execution_count": 2,
   "metadata": {},
   "outputs": [],
   "source": [
    "#Страница Wiki с актуальным списком тикеров S&P500\n",
    "wikiurl=\"https://en.wikipedia.org/wiki/List_of_S%26P_500_companies#External_links\"\n",
    "response=requests.get(wikiurl)"
   ]
  },
  {
   "cell_type": "code",
   "execution_count": 3,
   "metadata": {},
   "outputs": [],
   "source": [
    "#Ищем нужную нам таблицу на странице\n",
    "soup = BeautifulSoup(response.text, 'html.parser')\n",
    "sp500table=soup.find(id=\"constituents\")"
   ]
  },
  {
   "cell_type": "code",
   "execution_count": 4,
   "metadata": {},
   "outputs": [
    {
     "name": "stdout",
     "output_type": "stream",
     "text": [
      "  Symbol             Security SEC filings             GICS Sector  \\\n",
      "0    MMM                   3M     reports             Industrials   \n",
      "1    ABT  Abbott Laboratories     reports             Health Care   \n",
      "2   ABBV               AbbVie     reports             Health Care   \n",
      "3   ABMD              Abiomed     reports             Health Care   \n",
      "4    ACN            Accenture     reports  Information Technology   \n",
      "\n",
      "                GICS Sub-Industry    Headquarters Location Date first added  \\\n",
      "0        Industrial Conglomerates    Saint Paul, Minnesota       1976-08-09   \n",
      "1           Health Care Equipment  North Chicago, Illinois       1964-03-31   \n",
      "2                 Pharmaceuticals  North Chicago, Illinois       2012-12-31   \n",
      "3           Health Care Equipment   Danvers, Massachusetts       2018-05-31   \n",
      "4  IT Consulting & Other Services          Dublin, Ireland       2011-07-06   \n",
      "\n",
      "       CIK      Founded  \n",
      "0    66740         1902  \n",
      "1     1800         1888  \n",
      "2  1551152  2013 (1888)  \n",
      "3   815094         1981  \n",
      "4  1467373         1989  \n"
     ]
    }
   ],
   "source": [
    "#Создаем DataFrame\n",
    "df=pd.read_html(str(sp500table))\n",
    "df=pd.DataFrame(df[0])\n",
    "print(df.head())"
   ]
  },
  {
   "cell_type": "code",
   "execution_count": 5,
   "metadata": {
    "scrolled": true
   },
   "outputs": [
    {
     "data": {
      "text/plain": [
       "505"
      ]
     },
     "execution_count": 5,
     "metadata": {},
     "output_type": "execute_result"
    }
   ],
   "source": [
    "#Далее исторические данные будем брать с Yahoo! Finance, поэтому в некоторых тикерах надо поменять \".\" на \"-\"\n",
    "tickers = [tick.replace('.', '-') for tick in df['Symbol'].tolist()] \n",
    "len(tickers) #проверяем, что все наши 505 тикеров на месте"
   ]
  },
  {
   "cell_type": "markdown",
   "metadata": {},
   "source": [
    "Для скачивания данных по тикерам нашел билиотеку **yfinance**. К сожалению, тут есть проблема, которую я не успел решить: не для всех тикеров есть значения цены в одни и те же даты. К примеру, для тикера ABBV есть данные в 09 месяц, но нет данных в 10, при том что на самом сайте данные отображаются. Скорее всего, нужно выбрать другой способ запарсить исторические данные"
   ]
  },
  {
   "cell_type": "code",
   "execution_count": 154,
   "metadata": {},
   "outputs": [
    {
     "name": "stdout",
     "output_type": "stream",
     "text": [
      "[*********************100%***********************]  505 of 505 completed\n",
      "[*********************100%***********************]  1 of 1 completed\n"
     ]
    }
   ],
   "source": [
    "dateStart=datetime.date(datetime.date.today().year-10,datetime.date.today().month+1,1)\n",
    "dateStop=datetime.date(datetime.date.today().year,datetime.date.today().month+1,1)\n",
    "data=yf.download(tickers,dateStart,dateStop,interval='3mo',auto_adjust=True)['Close']#cкачиваем данные по составу индекса\n",
    "sp500=yf.download('^GSPC',dateStart,dateStop,interval='3mo',auto_adjust=True)['Close'] #скачиваем данные по индексу"
   ]
  },
  {
   "cell_type": "code",
   "execution_count": 155,
   "metadata": {},
   "outputs": [],
   "source": [
    "#Из-за вышеописанной проблемы придется удалять тикеры с NaN\n",
    "data=data.dropna(thresh=450).dropna(axis=1, how='all')"
   ]
  },
  {
   "cell_type": "code",
   "execution_count": 156,
   "metadata": {
    "scrolled": true
   },
   "outputs": [],
   "source": [
    "datachanges4=data.pct_change(periods=4)#доходность за предыдущие 4 квартала, на ее основе будет отбирать компании\n",
    "datachanges=data.pct_change()#доходность за каждый квартал, по ней считаем профит\n",
    "sp500changes=sp500.dropna().pct_change() #считаем доходность индекса"
   ]
  },
  {
   "cell_type": "code",
   "execution_count": 163,
   "metadata": {},
   "outputs": [],
   "source": [
    "#первую закупку делаем 2012-09-01, первый профит \"снимаем\" 2012-12-01 (спустя 1 квартал)\n",
    "Bank=1000 #для абсолютных значение примем стартовый капитал равным 1000$\n",
    "times = list(data.index)[4:] #даты, в которые мы торгуем\n",
    "compare = pd.DataFrame() #создаем DataFrame для сравнение квартальной доходности\n",
    "for i in range(len(times)-1):\n",
    "    profit=0 #в начале каждого квартала обнуляем соответствующие доходности\n",
    "    sp500profit=0\n",
    "    period=times[i].strftime(\"%Y-%m-%d\") #создаем ключ для работы с DataFrame; период, в котором отбираем топ-100\n",
    "    periodnext=times[i+1].strftime(\"%Y-%m-%d\") #ключ для работы с DataFrame; период, когда считаем доходность купленных ранее активов\n",
    "    bought=datachanges4.loc[period].sort_values(ascending=False)[0:100] #список купленных тикеров (отсортированных по доходности за квартал)\n",
    "    for asset in list(bought.index): \n",
    "        profit+=datachanges[asset].loc[periodnext]/len(bought) #суммируем доходности всех купленных активов, т.к. они были куплены в равных долях\n",
    "    sp500profit=sp500changes.loc[periodnext] #доходность индекса за квартал \n",
    "    compare = pd.concat([compare,pd.DataFrame([[profit, sp500profit]], \n",
    "                                              columns=['Strategy\\'s Profit','S&P500 Profit'], \n",
    "                                              index=[periodnext])]) #Записываем доходность в каждом квартале\n",
    "answer=(compare+1).cumprod() #считаем доходность по сложному проценту\n",
    "aar=((compare+1).groupby(compare.reset_index().index // 4).prod()-1).mean() #AAR - Average Annual Return"
   ]
  },
  {
   "cell_type": "code",
   "execution_count": 162,
   "metadata": {},
   "outputs": [
    {
     "data": {
      "image/png": "[encoded data removed]",
      "text/plain": [
       "<Figure size 432x288 with 1 Axes>"
      ]
     },
     "metadata": {
      "needs_background": "light"
     },
     "output_type": "display_data"
    }
   ],
   "source": [
    "plt=(answer*Bank).plot(); #строим абсолютные значения баланса нашего портфеля\n",
    "plt.legend([\"Momentum Strategy Balance\", \"S&P500 Balance\"]);\n",
    "plt.set_xticklabels(plt.get_xticklabels(),rotation=45);"
   ]
  },
  {
   "cell_type": "markdown",
   "metadata": {},
   "source": [
    "В условии было сказано про данные \"за последние 10 лет\". Но первый год мы \"наблюдаем\", чтобы понять, какие компании \"показали наибольшую доходность за 4 предыдущих квартала\". Поэтому в итоге мы анализируем данные за 9 лет. Соотвественно, в волатильности тоже используем 9 лет."
   ]
  },
  {
   "cell_type": "code",
   "execution_count": 164,
   "metadata": {},
   "outputs": [],
   "source": [
    "volatility=answer.std()/(9**0.5) #считаем волатильность"
   ]
  },
  {
   "cell_type": "markdown",
   "metadata": {},
   "source": [
    "Формируем итоговую таблицу согласно условию задания. Формат выбран такой, что в случае тестирования новых стратегий, эти данные можно будет легко добавить последней строкой и получить общую обзорную таблицу."
   ]
  },
  {
   "cell_type": "code",
   "execution_count": 165,
   "metadata": {},
   "outputs": [
    {
     "name": "stdout",
     "output_type": "stream",
     "text": [
      "                   Abs. Profit,$  Percent. Profit,%  Volatility,%      AAR,%\n",
      "S&P500               3138.260880         313.826088     18.496610  14.033346\n",
      "Momentum Strategy    5035.745954         503.574595     36.181033  20.351974\n"
     ]
    }
   ],
   "source": [
    "finalTable=pd.DataFrame(np.array([[answer.loc[periodnext][1]*Bank, \n",
    "                                   answer.loc[periodnext][1]*100, volatility[1]*100,\n",
    "                                   aar[1]*100], \n",
    "                                  [answer.loc[periodnext][0]*Bank, \n",
    "                                   answer.loc[periodnext][0]*100, volatility[0]*100,\n",
    "                                   aar[0]*100]]), \n",
    "                        columns=['Abs. Profit,$','Percent. Profit,%', 'Volatility,%','AAR,%'], \n",
    "                        index=['S&P500','Momentum Strategy'])\n",
    "print(finalTable)"
   ]
  }
 ],
 "metadata": {
  "kernelspec": {
   "display_name": "Python 3",
   "language": "python",
   "name": "python3"
  },
  "language_info": {
   "codemirror_mode": {
    "name": "ipython",
    "version": 3
   },
   "file_extension": ".py",
   "mimetype": "text/x-python",
   "name": "python",
   "nbconvert_exporter": "python",
   "pygments_lexer": "ipython3",
   "version": "3.8.10"
  }
 },
 "nbformat": 4,
 "nbformat_minor": 4
}
